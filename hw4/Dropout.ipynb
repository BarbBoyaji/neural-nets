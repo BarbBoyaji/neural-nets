{
 "cells": [
  {
   "cell_type": "markdown",
   "metadata": {},
   "source": [
    "# Dropout\n",
    "\n",
    "In this notebook, you will implement dropout.  Then we will ask you to train a network with batchnorm and dropout, and acheive over 55% accuracy on CIFAR-10.\n",
    "\n",
    "CS231n has built a solid API for building these modular frameworks and training them, and we will use their very well implemented framework as opposed to \"reinventing the wheel.\"  This includes using their Solver, various utility functions, and their layer structure.  This also includes nndl.fc_net, nndl.layers, and nndl.layer_utils.  As in prior assignments, we thank Serena Yeung & Justin Johnson for permission to use code written for the CS 231n class (cs231n.stanford.edu).  "
   ]
  },
  {
   "cell_type": "code",
   "execution_count": 31,
   "metadata": {},
   "outputs": [
    {
     "name": "stdout",
     "output_type": "stream",
     "text": [
      "The autoreload extension is already loaded. To reload it, use:\n",
      "  %reload_ext autoreload\n"
     ]
    }
   ],
   "source": [
    "## Import and setups\n",
    "\n",
    "import time\n",
    "import numpy as np\n",
    "import matplotlib.pyplot as plt\n",
    "from nndl.fc_net import *\n",
    "from nndl.layers import *\n",
    "from cs231n.data_utils import get_CIFAR10_data\n",
    "from cs231n.gradient_check import eval_numerical_gradient, eval_numerical_gradient_array\n",
    "from cs231n.solver import Solver\n",
    "\n",
    "%matplotlib inline\n",
    "plt.rcParams['figure.figsize'] = (10.0, 8.0) # set default size of plots\n",
    "plt.rcParams['image.interpolation'] = 'nearest'\n",
    "plt.rcParams['image.cmap'] = 'gray'\n",
    "\n",
    "# for auto-reloading external modules\n",
    "# see http://stackoverflow.com/questions/1907993/autoreload-of-modules-in-ipython\n",
    "%load_ext autoreload\n",
    "%autoreload 2\n",
    "\n",
    "def rel_error(x, y):\n",
    "    \"\"\" returns relative error \"\"\"\n",
    "    return np.max(np.abs(x - y) / (np.maximum(1e-8, np.abs(x) + np.abs(y))))"
   ]
  },
  {
   "cell_type": "code",
   "execution_count": 32,
   "metadata": {},
   "outputs": [
    {
     "name": "stdout",
     "output_type": "stream",
     "text": [
      "X_train: (49000, 3, 32, 32) \n",
      "y_train: (49000,) \n",
      "X_val: (1000, 3, 32, 32) \n",
      "y_val: (1000,) \n",
      "X_test: (1000, 3, 32, 32) \n",
      "y_test: (1000,) \n"
     ]
    }
   ],
   "source": [
    "# Load the (preprocessed) CIFAR10 data.\n",
    "\n",
    "data = get_CIFAR10_data()\n",
    "for k in data.keys():\n",
    "    print('{}: {} '.format(k, data[k].shape))"
   ]
  },
  {
   "cell_type": "markdown",
   "metadata": {},
   "source": [
    "## Dropout forward pass\n",
    "\n",
    "Implement the training and test time dropout forward pass, `dropout_forward`, in `nndl/layers.py`. After that, test your implementation by running the following cell."
   ]
  },
  {
   "cell_type": "code",
   "execution_count": 33,
   "metadata": {},
   "outputs": [
    {
     "name": "stdout",
     "output_type": "stream",
     "text": [
      "Running tests with p =  0.3\n",
      "Mean of input:  10.0029854848449\n",
      "Mean of train-time output:  10.01987826216778\n",
      "Mean of test-time output:  9.969949601225744\n",
      "Fraction of train-time output set to zero:  0.699552\n",
      "Fraction of test-time output set to zero:  0.701032\n",
      "Running tests with p =  0.6\n",
      "Mean of input:  10.0029854848449\n",
      "Mean of train-time output:  9.996674694995127\n",
      "Mean of test-time output:  10.0010882424559\n",
      "Fraction of train-time output set to zero:  0.400372\n",
      "Fraction of test-time output set to zero:  0.400204\n",
      "Running tests with p =  0.75\n",
      "Mean of input:  10.0029854848449\n",
      "Mean of train-time output:  9.99273729523612\n",
      "Mean of test-time output:  10.017737468053912\n",
      "Fraction of train-time output set to zero:  0.250724\n",
      "Fraction of test-time output set to zero:  0.248964\n"
     ]
    }
   ],
   "source": [
    "x = np.random.randn(500, 500) + 10\n",
    "\n",
    "for p in [0.3, 0.6, 0.75]:\n",
    "    out, _ = dropout_forward(x, {'mode': 'train', 'p': p})\n",
    "    out_test, _ = dropout_forward(x, {'mode': 'test', 'p': p})\n",
    "\n",
    "    print('Running tests with p = ', p)\n",
    "    print('Mean of input: ', x.mean())\n",
    "    print('Mean of train-time output: ', out.mean())\n",
    "    print('Mean of test-time output: ', out_test.mean())\n",
    "    print('Fraction of train-time output set to zero: ', (out == 0).mean())\n",
    "    print('Fraction of test-time output set to zero: ', (out_test == 0).mean())"
   ]
  },
  {
   "cell_type": "markdown",
   "metadata": {},
   "source": [
    "## Dropout backward pass\n",
    "\n",
    "Implement the backward pass, `dropout_backward`, in `nndl/layers.py`.  After that, test your gradients by running the following cell:"
   ]
  },
  {
   "cell_type": "code",
   "execution_count": 34,
   "metadata": {},
   "outputs": [
    {
     "name": "stdout",
     "output_type": "stream",
     "text": [
      "dx relative error:  5.445613142155293e-11\n"
     ]
    }
   ],
   "source": [
    "x = np.random.randn(10, 10) + 10\n",
    "dout = np.random.randn(*x.shape)\n",
    "\n",
    "dropout_param = {'mode': 'train', 'p': 0.8, 'seed': 123}\n",
    "out, cache = dropout_forward(x, dropout_param)\n",
    "dx = dropout_backward(dout, cache)\n",
    "dx_num = eval_numerical_gradient_array(lambda xx: dropout_forward(xx, dropout_param)[0], x, dout)\n",
    "\n",
    "print('dx relative error: ', rel_error(dx, dx_num))"
   ]
  },
  {
   "cell_type": "markdown",
   "metadata": {},
   "source": [
    "## Implement a fully connected neural network with dropout layers\n",
    "\n",
    "Modify the `FullyConnectedNet()` class in `nndl/fc_net.py` to incorporate dropout.  A dropout layer should be incorporated after every ReLU layer.  Concretely, there shouldn't be a dropout at the output layer since there is no ReLU at the output layer. You will need to modify the class in the following areas:\n",
    "\n",
    "(1) In the forward pass, you will need to incorporate a dropout layer after every relu layer.\n",
    "\n",
    "(2) In the backward pass, you will need to incorporate a dropout backward pass layer.\n",
    "\n",
    "Check your implementation by running the following code.  Our W1 gradient relative error is on the order of 1e-6 (the largest of all the relative errors)."
   ]
  },
  {
   "cell_type": "code",
   "execution_count": 41,
   "metadata": {},
   "outputs": [
    {
     "name": "stdout",
     "output_type": "stream",
     "text": [
      "Running check with dropout =  0.5\n",
      "num of layers: 3, hidden dims: 2\n",
      "Initial loss:  2.3035572385484593\n",
      "W1 relative error: 4.566234101158854e-08\n",
      "W2 relative error: 4.3954711363236285e-08\n",
      "W3 relative error: 6.244950629718974e-08\n",
      "b1 relative error: 2.0413189453171298e-09\n",
      "b2 relative error: 2.7851323029758954e-09\n",
      "b3 relative error: 1.3584809600954945e-10\n",
      "\n",
      "\n",
      "Running check with dropout =  0.75\n",
      "num of layers: 3, hidden dims: 2\n",
      "Initial loss:  2.3014928427717702\n",
      "W1 relative error: 9.832413020918619e-08\n",
      "W2 relative error: 1.2484064617716865e-07\n",
      "W3 relative error: 7.072876228387024e-08\n",
      "b1 relative error: 6.570716187922325e-08\n",
      "b2 relative error: 2.497336517035264e-09\n",
      "b3 relative error: 1.5893216402745932e-10\n",
      "\n",
      "\n",
      "Running check with dropout =  1.0\n",
      "num of layers: 3, hidden dims: 2\n",
      "Initial loss:  2.3027302573552197\n",
      "W1 relative error: 1.3610160905124168e-07\n",
      "W2 relative error: 1.1681571853939308e-07\n",
      "W3 relative error: 9.422106237206263e-08\n",
      "b1 relative error: 1.1796170787951408e-08\n",
      "b2 relative error: 2.062339642434995e-09\n",
      "b3 relative error: 9.274709761196104e-11\n",
      "\n",
      "\n"
     ]
    }
   ],
   "source": [
    "N, D, H1, H2, C = 2, 15, 20, 30, 10\n",
    "X = np.random.randn(N, D)\n",
    "y = np.random.randint(C, size=(N,))\n",
    "\n",
    "for dropout in [0.5, 0.75, 1.0]:\n",
    "    print('Running check with dropout = ', dropout)\n",
    "    model = FullyConnectedNet([H1, H2], input_dim=D, num_classes=C,\n",
    "                              weight_scale=5e-2, dtype=np.float64,\n",
    "                              dropout=dropout, seed=123)\n",
    "\n",
    "    loss, grads = model.loss(X, y)\n",
    "    print('Initial loss: ', loss)\n",
    "\n",
    "    for name in sorted(grads):\n",
    "        f = lambda _: model.loss(X, y)[0]\n",
    "        grad_num = eval_numerical_gradient(f, model.params[name], verbose=False, h=1e-5)\n",
    "        print('{} relative error: {}'.format(name, rel_error(grad_num, grads[name])))\n",
    "    print('\\n')"
   ]
  },
  {
   "cell_type": "markdown",
   "metadata": {},
   "source": [
    "## Dropout as a regularizer\n",
    "\n",
    "In class, we claimed that dropout acts as a regularizer by effectively bagging.  To check this, we will train two small networks, one with dropout and one without dropout.  "
   ]
  },
  {
   "cell_type": "code",
   "execution_count": 42,
   "metadata": {},
   "outputs": [
    {
     "name": "stdout",
     "output_type": "stream",
     "text": [
      "num of layers: 4, hidden dims: 3\n",
      "(Iteration 1 / 125) loss: 2.300199\n",
      "(Epoch 0 / 25) train acc: 0.158000; val_acc: 0.127000\n",
      "(Epoch 1 / 25) train acc: 0.132000; val_acc: 0.121000\n",
      "(Epoch 2 / 25) train acc: 0.204000; val_acc: 0.170000\n",
      "(Epoch 3 / 25) train acc: 0.240000; val_acc: 0.192000\n",
      "(Epoch 4 / 25) train acc: 0.312000; val_acc: 0.274000\n",
      "(Epoch 5 / 25) train acc: 0.314000; val_acc: 0.269000\n",
      "(Epoch 6 / 25) train acc: 0.364000; val_acc: 0.252000\n",
      "(Epoch 7 / 25) train acc: 0.390000; val_acc: 0.281000\n",
      "(Epoch 8 / 25) train acc: 0.386000; val_acc: 0.290000\n",
      "(Epoch 9 / 25) train acc: 0.372000; val_acc: 0.267000\n",
      "(Epoch 10 / 25) train acc: 0.424000; val_acc: 0.286000\n",
      "(Epoch 11 / 25) train acc: 0.396000; val_acc: 0.275000\n",
      "(Epoch 12 / 25) train acc: 0.458000; val_acc: 0.299000\n",
      "(Epoch 13 / 25) train acc: 0.496000; val_acc: 0.305000\n",
      "(Epoch 14 / 25) train acc: 0.492000; val_acc: 0.299000\n",
      "(Epoch 15 / 25) train acc: 0.550000; val_acc: 0.296000\n",
      "(Epoch 16 / 25) train acc: 0.584000; val_acc: 0.297000\n",
      "(Epoch 17 / 25) train acc: 0.582000; val_acc: 0.309000\n",
      "(Epoch 18 / 25) train acc: 0.612000; val_acc: 0.306000\n",
      "(Epoch 19 / 25) train acc: 0.628000; val_acc: 0.323000\n",
      "(Epoch 20 / 25) train acc: 0.608000; val_acc: 0.324000\n",
      "(Iteration 101 / 125) loss: 1.369535\n",
      "(Epoch 21 / 25) train acc: 0.644000; val_acc: 0.330000\n",
      "(Epoch 22 / 25) train acc: 0.708000; val_acc: 0.341000\n",
      "(Epoch 23 / 25) train acc: 0.690000; val_acc: 0.297000\n",
      "(Epoch 24 / 25) train acc: 0.740000; val_acc: 0.300000\n",
      "(Epoch 25 / 25) train acc: 0.750000; val_acc: 0.329000\n",
      "num of layers: 4, hidden dims: 3\n",
      "(Iteration 1 / 125) loss: 2.300607\n",
      "(Epoch 0 / 25) train acc: 0.172000; val_acc: 0.167000\n",
      "(Epoch 1 / 25) train acc: 0.210000; val_acc: 0.197000\n",
      "(Epoch 2 / 25) train acc: 0.284000; val_acc: 0.240000\n",
      "(Epoch 3 / 25) train acc: 0.302000; val_acc: 0.246000\n",
      "(Epoch 4 / 25) train acc: 0.392000; val_acc: 0.289000\n",
      "(Epoch 5 / 25) train acc: 0.420000; val_acc: 0.274000\n",
      "(Epoch 6 / 25) train acc: 0.420000; val_acc: 0.304000\n",
      "(Epoch 7 / 25) train acc: 0.474000; val_acc: 0.293000\n",
      "(Epoch 8 / 25) train acc: 0.516000; val_acc: 0.330000\n",
      "(Epoch 9 / 25) train acc: 0.566000; val_acc: 0.322000\n",
      "(Epoch 10 / 25) train acc: 0.620000; val_acc: 0.321000\n",
      "(Epoch 11 / 25) train acc: 0.656000; val_acc: 0.317000\n",
      "(Epoch 12 / 25) train acc: 0.676000; val_acc: 0.319000\n",
      "(Epoch 13 / 25) train acc: 0.680000; val_acc: 0.304000\n",
      "(Epoch 14 / 25) train acc: 0.752000; val_acc: 0.323000\n",
      "(Epoch 15 / 25) train acc: 0.802000; val_acc: 0.321000\n",
      "(Epoch 16 / 25) train acc: 0.804000; val_acc: 0.300000\n",
      "(Epoch 17 / 25) train acc: 0.868000; val_acc: 0.303000\n",
      "(Epoch 18 / 25) train acc: 0.894000; val_acc: 0.298000\n",
      "(Epoch 19 / 25) train acc: 0.910000; val_acc: 0.282000\n",
      "(Epoch 20 / 25) train acc: 0.926000; val_acc: 0.316000\n",
      "(Iteration 101 / 125) loss: 0.245816\n",
      "(Epoch 21 / 25) train acc: 0.950000; val_acc: 0.282000\n",
      "(Epoch 22 / 25) train acc: 0.958000; val_acc: 0.292000\n",
      "(Epoch 23 / 25) train acc: 0.966000; val_acc: 0.307000\n",
      "(Epoch 24 / 25) train acc: 0.966000; val_acc: 0.285000\n",
      "(Epoch 25 / 25) train acc: 0.970000; val_acc: 0.284000\n"
     ]
    }
   ],
   "source": [
    "# Train two identical nets, one with dropout and one without\n",
    "\n",
    "num_train = 500\n",
    "small_data = {\n",
    "    'X_train': data['X_train'][:num_train],\n",
    "    'y_train': data['y_train'][:num_train],\n",
    "    'X_val': data['X_val'],\n",
    "    'y_val': data['y_val'],\n",
    "}\n",
    "\n",
    "solvers = {}\n",
    "dropout_choices = [0.6, 1.0]\n",
    "for dropout in dropout_choices:\n",
    "    model = FullyConnectedNet([100, 100, 100], dropout=dropout)\n",
    "\n",
    "    solver = Solver(model, small_data,\n",
    "                    num_epochs=25, batch_size=100,\n",
    "                    update_rule='adam',\n",
    "                    optim_config={\n",
    "                      'learning_rate': 5e-4,\n",
    "                    },\n",
    "                    verbose=True, print_every=100)\n",
    "    solver.train()\n",
    "    solvers[dropout] = solver"
   ]
  },
  {
   "cell_type": "code",
   "execution_count": 43,
   "metadata": {},
   "outputs": [
    {
     "data": {
      "image/png": "[encoded data removed]",
      "text/plain": [
       "<Figure size 1080x1080 with 2 Axes>"
      ]
     },
     "metadata": {},
     "output_type": "display_data"
    }
   ],
   "source": [
    "# Plot train and validation accuracies of the two models\n",
    "\n",
    "train_accs = []\n",
    "val_accs = []\n",
    "for dropout in dropout_choices:\n",
    "    solver = solvers[dropout]\n",
    "    train_accs.append(solver.train_acc_history[-1])\n",
    "    val_accs.append(solver.val_acc_history[-1])\n",
    "\n",
    "plt.subplot(3, 1, 1)\n",
    "for dropout in dropout_choices:\n",
    "    plt.plot(solvers[dropout].train_acc_history, 'o', label='%.2f dropout' % dropout)\n",
    "plt.title('Train accuracy')\n",
    "plt.xlabel('Epoch')\n",
    "plt.ylabel('Accuracy')\n",
    "plt.legend(ncol=2, loc='lower right')\n",
    "  \n",
    "plt.subplot(3, 1, 2)\n",
    "for dropout in dropout_choices:\n",
    "    plt.plot(solvers[dropout].val_acc_history, 'o', label='%.2f dropout' % dropout)\n",
    "plt.title('Val accuracy')\n",
    "plt.xlabel('Epoch')\n",
    "plt.ylabel('Accuracy')\n",
    "plt.legend(ncol=2, loc='lower right')\n",
    "\n",
    "plt.gcf().set_size_inches(15, 15)\n",
    "plt.show()"
   ]
  },
  {
   "cell_type": "markdown",
   "metadata": {},
   "source": [
    "## Question\n",
    "\n",
    "Based off the results of this experiment, is dropout performing regularization?  Explain your answer."
   ]
  },
  {
   "cell_type": "markdown",
   "metadata": {},
   "source": [
    "## Answer:\n"
   ]
  },
  {
   "cell_type": "markdown",
   "metadata": {},
   "source": [
    "The model trained with dropout has a lower training accuracy and higher validation accuracy than the model that does not have dropout. This indicates that dropout is performing regularization. Regularization effectively reduces overfitting, and that is why we are seeing the lower training accuracy. The model is general. And because it is not overfitting the data, it has a higher validation accuracy when tested against data it has not seen before yet."
   ]
  },
  {
   "cell_type": "markdown",
   "metadata": {},
   "source": [
    "##### Final part of the assignment\n",
    "\n",
    "Get over 55% validation accuracy on CIFAR-10 by using the layers you have implemented.  You will be graded according to the following equation:\n",
    "\n",
    "min(floor((X - 32%)) / 23%, 1) \n",
    "where if you get 55% or higher validation accuracy, you get full points."
   ]
  },
  {
   "cell_type": "code",
   "execution_count": 119,
   "metadata": {
    "scrolled": false
   },
   "outputs": [
    {
     "name": "stdout",
     "output_type": "stream",
     "text": [
      "X_train: (49000, 3, 32, 32) \n",
      "y_train: (49000,) \n",
      "X_val: (1000, 3, 32, 32) \n",
      "y_val: (1000,) \n",
      "X_test: (1000, 3, 32, 32) \n",
      "y_test: (1000,) \n",
      "(Iteration 1 / 2940) loss: 2.302598\n",
      "(Epoch 0 / 30) train acc: 0.122000; val_acc: 0.115000\n",
      "(Iteration 51 / 2940) loss: 1.874812\n",
      "(Epoch 1 / 30) train acc: 0.393000; val_acc: 0.391000\n",
      "(Iteration 101 / 2940) loss: 1.760428\n",
      "(Iteration 151 / 2940) loss: 1.733170\n",
      "(Epoch 2 / 30) train acc: 0.456000; val_acc: 0.453000\n",
      "(Iteration 201 / 2940) loss: 1.660042\n",
      "(Iteration 251 / 2940) loss: 1.603152\n",
      "(Epoch 3 / 30) train acc: 0.486000; val_acc: 0.479000\n",
      "(Iteration 301 / 2940) loss: 1.535268\n",
      "(Iteration 351 / 2940) loss: 1.591979\n",
      "(Epoch 4 / 30) train acc: 0.498000; val_acc: 0.494000\n",
      "(Iteration 401 / 2940) loss: 1.689781\n",
      "(Iteration 451 / 2940) loss: 1.577408\n",
      "(Epoch 5 / 30) train acc: 0.498000; val_acc: 0.479000\n",
      "(Iteration 501 / 2940) loss: 1.589525\n",
      "(Iteration 551 / 2940) loss: 1.586721\n",
      "(Epoch 6 / 30) train acc: 0.496000; val_acc: 0.503000\n",
      "(Iteration 601 / 2940) loss: 1.576734\n",
      "(Iteration 651 / 2940) loss: 1.463384\n",
      "(Epoch 7 / 30) train acc: 0.533000; val_acc: 0.505000\n",
      "(Iteration 701 / 2940) loss: 1.457091\n",
      "(Iteration 751 / 2940) loss: 1.518373\n",
      "(Epoch 8 / 30) train acc: 0.530000; val_acc: 0.498000\n",
      "(Iteration 801 / 2940) loss: 1.547267\n",
      "(Iteration 851 / 2940) loss: 1.578438\n",
      "(Epoch 9 / 30) train acc: 0.539000; val_acc: 0.498000\n",
      "(Iteration 901 / 2940) loss: 1.520029\n",
      "(Iteration 951 / 2940) loss: 1.557924\n",
      "(Epoch 10 / 30) train acc: 0.514000; val_acc: 0.507000\n",
      "(Iteration 1001 / 2940) loss: 1.499575\n",
      "(Iteration 1051 / 2940) loss: 1.511866\n",
      "(Epoch 11 / 30) train acc: 0.561000; val_acc: 0.517000\n",
      "(Iteration 1101 / 2940) loss: 1.451716\n",
      "(Iteration 1151 / 2940) loss: 1.498661\n",
      "(Epoch 12 / 30) train acc: 0.551000; val_acc: 0.518000\n",
      "(Iteration 1201 / 2940) loss: 1.512011\n",
      "(Iteration 1251 / 2940) loss: 1.513068\n",
      "(Epoch 13 / 30) train acc: 0.534000; val_acc: 0.511000\n",
      "(Iteration 1301 / 2940) loss: 1.471776\n",
      "(Iteration 1351 / 2940) loss: 1.444201\n",
      "(Epoch 14 / 30) train acc: 0.540000; val_acc: 0.528000\n",
      "(Iteration 1401 / 2940) loss: 1.427084\n",
      "(Iteration 1451 / 2940) loss: 1.538592\n",
      "(Epoch 15 / 30) train acc: 0.578000; val_acc: 0.528000\n",
      "(Iteration 1501 / 2940) loss: 1.489440\n",
      "(Iteration 1551 / 2940) loss: 1.442689\n",
      "(Epoch 16 / 30) train acc: 0.587000; val_acc: 0.531000\n",
      "(Iteration 1601 / 2940) loss: 1.392002\n",
      "(Iteration 1651 / 2940) loss: 1.494080\n",
      "(Epoch 17 / 30) train acc: 0.550000; val_acc: 0.510000\n",
      "(Iteration 1701 / 2940) loss: 1.398297\n",
      "(Iteration 1751 / 2940) loss: 1.485987\n",
      "(Epoch 18 / 30) train acc: 0.567000; val_acc: 0.533000\n",
      "(Iteration 1801 / 2940) loss: 1.369382\n",
      "(Iteration 1851 / 2940) loss: 1.565857\n",
      "(Epoch 19 / 30) train acc: 0.572000; val_acc: 0.530000\n",
      "(Iteration 1901 / 2940) loss: 1.538743\n",
      "(Iteration 1951 / 2940) loss: 1.392581\n",
      "(Epoch 20 / 30) train acc: 0.575000; val_acc: 0.540000\n",
      "(Iteration 2001 / 2940) loss: 1.376376\n",
      "(Iteration 2051 / 2940) loss: 1.365944\n",
      "(Epoch 21 / 30) train acc: 0.570000; val_acc: 0.526000\n",
      "(Iteration 2101 / 2940) loss: 1.393494\n",
      "(Iteration 2151 / 2940) loss: 1.400481\n",
      "(Epoch 22 / 30) train acc: 0.605000; val_acc: 0.545000\n",
      "(Iteration 2201 / 2940) loss: 1.458905\n",
      "(Iteration 2251 / 2940) loss: 1.459164\n",
      "(Epoch 23 / 30) train acc: 0.557000; val_acc: 0.534000\n",
      "(Iteration 2301 / 2940) loss: 1.400340\n",
      "(Iteration 2351 / 2940) loss: 1.426062\n",
      "(Epoch 24 / 30) train acc: 0.602000; val_acc: 0.533000\n",
      "(Iteration 2401 / 2940) loss: 1.459502\n",
      "(Epoch 25 / 30) train acc: 0.610000; val_acc: 0.544000\n",
      "(Iteration 2451 / 2940) loss: 1.457633\n",
      "(Iteration 2501 / 2940) loss: 1.410651\n",
      "(Epoch 26 / 30) train acc: 0.605000; val_acc: 0.520000\n",
      "(Iteration 2551 / 2940) loss: 1.534520\n",
      "(Iteration 2601 / 2940) loss: 1.496562\n",
      "(Epoch 27 / 30) train acc: 0.586000; val_acc: 0.532000\n",
      "(Iteration 2651 / 2940) loss: 1.391252\n",
      "(Iteration 2701 / 2940) loss: 1.477286\n",
      "(Epoch 28 / 30) train acc: 0.602000; val_acc: 0.533000\n",
      "(Iteration 2751 / 2940) loss: 1.430780\n",
      "(Iteration 2801 / 2940) loss: 1.406364\n",
      "(Epoch 29 / 30) train acc: 0.594000; val_acc: 0.547000\n",
      "(Iteration 2851 / 2940) loss: 1.461707\n",
      "(Iteration 2901 / 2940) loss: 1.498222\n",
      "(Epoch 30 / 30) train acc: 0.594000; val_acc: 0.540000\n"
     ]
    }
   ],
   "source": [
    "# ================================================================ #\n",
    "# YOUR CODE HERE:\n",
    "#   Implement a FC-net that achieves at least 55% validation accuracy\n",
    "#   on CIFAR-10.\n",
    "# ================================================================ #\n",
    "\n",
    "data = get_CIFAR10_data()\n",
    "for k in data.keys():\n",
    "    print('{}: {} '.format(k, data[k].shape))\n",
    "    \n",
    "model = FullyConnectedNet([100, 100, 100], use_batchnorm=True, reg=6e-4,\n",
    "           weight_scale=1e-3, dropout=0.7)\n",
    "\n",
    "solver = Solver(model, data,\n",
    "                num_epochs=30, batch_size=500,\n",
    "                update_rule='adam',\n",
    "                optim_config={\n",
    "                  'learning_rate': 1e-3,\n",
    "                },\n",
    "                verbose=True, print_every=50)\n",
    "solver.train()\n",
    "solvers[dropout] = solver\n",
    "\n",
    "# ================================================================ #\n",
    "# END YOUR CODE HERE\n",
    "# ================================================================ #\n"
   ]
  },
  {
   "cell_type": "code",
   "execution_count": null,
   "metadata": {},
   "outputs": [],
   "source": []
  }
 ],
 "metadata": {
  "kernelspec": {
   "display_name": "Python 3",
   "language": "python",
   "name": "python3"
  },
  "language_info": {
   "codemirror_mode": {
    "name": "ipython",
    "version": 3
   },
   "file_extension": ".py",
   "mimetype": "text/x-python",
   "name": "python",
   "nbconvert_exporter": "python",
   "pygments_lexer": "ipython3",
   "version": "3.6.8"
  }
 },
 "nbformat": 4,
 "nbformat_minor": 2
}
