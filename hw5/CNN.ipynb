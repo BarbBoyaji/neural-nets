{
 "cells": [
  {
   "cell_type": "markdown",
   "metadata": {},
   "source": [
    "# Convolutional neural networks\n",
    "\n",
    "In this notebook, we'll put together our convolutional layers to implement a 3-layer CNN.  Then, we'll ask you to implement a CNN that can achieve > 65% validation error on CIFAR-10.\n",
    "\n",
    "CS231n has built a solid API for building these modular frameworks and training them, and we will use their very well implemented framework as opposed to \"reinventing the wheel.\"  This includes using their Solver, various utility functions, their layer structure, and their implementation of fast CNN layers.  This also includes nndl.fc_net, nndl.layers, and nndl.layer_utils.  As in prior assignments, we thank Serena Yeung & Justin Johnson for permission to use code written for the CS 231n class (cs231n.stanford.edu).  \n",
    "\n",
    "\n",
    "If you have not completed the Spatial BatchNorm Notebook, please see the following description from that notebook:\n",
    "\n",
    "Please copy and paste your prior implemented code from HW #4 to start this assignment.  If you did not correctly implement the layers in HW #4, you may collaborate with a classmate to use their layer implementations from HW #4.  You may also visit TA or Prof OH to correct your implementation.  \n",
    "\n",
    "You'll want to copy and paste from HW #4:\n",
    "    - layers.py for your FC network layers, as well as batchnorm and dropout.\n",
    "    - layer_utils.py for your combined FC network layers.\n",
    "    - optim.py for your optimizers.\n",
    "\n",
    "Be sure to place these in the `nndl/` directory so they're imported correctly.  Note, as announced in class, we will not be releasing our solutions."
   ]
  },
  {
   "cell_type": "code",
   "execution_count": 1,
   "metadata": {},
   "outputs": [],
   "source": [
    "# As usual, a bit of setup\n",
    "\n",
    "import numpy as np\n",
    "import matplotlib.pyplot as plt\n",
    "from nndl.cnn import *\n",
    "from cs231n.data_utils import get_CIFAR10_data\n",
    "from cs231n.gradient_check import eval_numerical_gradient_array, eval_numerical_gradient\n",
    "from nndl.layers import *\n",
    "from nndl.conv_layers import *\n",
    "from cs231n.fast_layers import *\n",
    "from cs231n.solver import Solver\n",
    "\n",
    "%matplotlib inline\n",
    "plt.rcParams['figure.figsize'] = (10.0, 8.0) # set default size of plots\n",
    "plt.rcParams['image.interpolation'] = 'nearest'\n",
    "plt.rcParams['image.cmap'] = 'gray'\n",
    "\n",
    "# for auto-reloading external modules\n",
    "# see http://stackoverflow.com/questions/1907993/autoreload-of-modules-in-ipython\n",
    "%load_ext autoreload\n",
    "%autoreload 2\n",
    "\n",
    "def rel_error(x, y):\n",
    "  \"\"\" returns relative error \"\"\"\n",
    "  return np.max(np.abs(x - y) / (np.maximum(1e-8, np.abs(x) + np.abs(y))))"
   ]
  },
  {
   "cell_type": "code",
   "execution_count": 3,
   "metadata": {},
   "outputs": [
    {
     "name": "stdout",
     "output_type": "stream",
     "text": [
      "X_train: (49000, 3, 32, 32) \n",
      "y_train: (49000,) \n",
      "X_val: (1000, 3, 32, 32) \n",
      "y_val: (1000,) \n",
      "X_test: (1000, 3, 32, 32) \n",
      "y_test: (1000,) \n"
     ]
    }
   ],
   "source": [
    "# Load the (preprocessed) CIFAR10 data.\n",
    "\n",
    "data = get_CIFAR10_data()\n",
    "for k in data.keys():\n",
    "  print('{}: {} '.format(k, data[k].shape))"
   ]
  },
  {
   "cell_type": "markdown",
   "metadata": {},
   "source": [
    "## Three layer CNN\n",
    "\n",
    "In this notebook, you will implement a three layer CNN.  The `ThreeLayerConvNet` class is in `nndl/cnn.py`.  You'll need to modify that code for this section, including the initialization, as well as the calculation of the loss and gradients.  You should be able to use the building blocks you have either earlier coded or that we have provided.  Be sure to use the fast layers.\n",
    "\n",
    "The architecture of this CNN will be:\n",
    "\n",
    "conv - relu - 2x2 max pool - affine - relu - affine - softmax\n",
    "\n",
    "We won't use batchnorm yet.  You've also done enough of these to know how to debug; use the cells below.\n",
    "\n",
    "Note: As we are implementing several layers CNN networks. The gradient error can be expected for the `eval_numerical_gradient()` function. If your `W1 max relative error` and `W2 max relative error` are around or below 0.01, they should be acceptable. Other errors should be less than 1e-5. "
   ]
  },
  {
   "cell_type": "code",
   "execution_count": 31,
   "metadata": {},
   "outputs": [
    {
     "name": "stdout",
     "output_type": "stream",
     "text": [
      "W1 max relative error: 0.0007032853584918216\n",
      "W2 max relative error: 0.029031477226199306\n",
      "W3 max relative error: 3.937890478817926e-05\n",
      "b1 max relative error: 1.732302169520445e-05\n",
      "b2 max relative error: 2.0376897135048575e-05\n",
      "b3 max relative error: 1.122691930020151e-09\n"
     ]
    }
   ],
   "source": [
    "num_inputs = 2\n",
    "input_dim = (3, 16, 16)\n",
    "reg = 0.0\n",
    "num_classes = 10\n",
    "X = np.random.randn(num_inputs, *input_dim)\n",
    "y = np.random.randint(num_classes, size=num_inputs)\n",
    "\n",
    "model = ThreeLayerConvNet(num_filters=3, filter_size=3,\n",
    "                          input_dim=input_dim, hidden_dim=7,\n",
    "                          dtype=np.float64)\n",
    "loss, grads = model.loss(X, y)\n",
    "for param_name in sorted(grads):\n",
    "    f = lambda _: model.loss(X, y)[0]\n",
    "    param_grad_num = eval_numerical_gradient(f, model.params[param_name], verbose=False, h=1e-6)\n",
    "    e = rel_error(param_grad_num, grads[param_name])\n",
    "    print('{} max relative error: {}'.format(param_name, rel_error(param_grad_num, grads[param_name])))"
   ]
  },
  {
   "cell_type": "markdown",
   "metadata": {},
   "source": [
    "### Overfit small dataset\n",
    "\n",
    "To check your CNN implementation, let's overfit a small dataset."
   ]
  },
  {
   "cell_type": "code",
   "execution_count": 32,
   "metadata": {},
   "outputs": [
    {
     "name": "stdout",
     "output_type": "stream",
     "text": [
      "(Iteration 1 / 20) loss: 2.498172\n",
      "(Epoch 0 / 10) train acc: 0.200000; val_acc: 0.080000\n",
      "(Iteration 2 / 20) loss: 3.572577\n",
      "(Epoch 1 / 10) train acc: 0.160000; val_acc: 0.119000\n",
      "(Iteration 3 / 20) loss: 2.898412\n",
      "(Iteration 4 / 20) loss: 2.357368\n",
      "(Epoch 2 / 10) train acc: 0.210000; val_acc: 0.107000\n",
      "(Iteration 5 / 20) loss: 2.230111\n",
      "(Iteration 6 / 20) loss: 2.332072\n",
      "(Epoch 3 / 10) train acc: 0.340000; val_acc: 0.148000\n",
      "(Iteration 7 / 20) loss: 1.984720\n",
      "(Iteration 8 / 20) loss: 1.857953\n",
      "(Epoch 4 / 10) train acc: 0.430000; val_acc: 0.178000\n",
      "(Iteration 9 / 20) loss: 1.750127\n",
      "(Iteration 10 / 20) loss: 1.695213\n",
      "(Epoch 5 / 10) train acc: 0.460000; val_acc: 0.165000\n",
      "(Iteration 11 / 20) loss: 1.399524\n",
      "(Iteration 12 / 20) loss: 1.513009\n",
      "(Epoch 6 / 10) train acc: 0.520000; val_acc: 0.166000\n",
      "(Iteration 13 / 20) loss: 1.687031\n",
      "(Iteration 14 / 20) loss: 1.246418\n",
      "(Epoch 7 / 10) train acc: 0.630000; val_acc: 0.158000\n",
      "(Iteration 15 / 20) loss: 1.204132\n",
      "(Iteration 16 / 20) loss: 1.160076\n",
      "(Epoch 8 / 10) train acc: 0.700000; val_acc: 0.197000\n",
      "(Iteration 17 / 20) loss: 0.905698\n",
      "(Iteration 18 / 20) loss: 0.827527\n",
      "(Epoch 9 / 10) train acc: 0.690000; val_acc: 0.190000\n",
      "(Iteration 19 / 20) loss: 1.055181\n",
      "(Iteration 20 / 20) loss: 0.721994\n",
      "(Epoch 10 / 10) train acc: 0.830000; val_acc: 0.215000\n"
     ]
    }
   ],
   "source": [
    "num_train = 100\n",
    "small_data = {\n",
    "  'X_train': data['X_train'][:num_train],\n",
    "  'y_train': data['y_train'][:num_train],\n",
    "  'X_val': data['X_val'],\n",
    "  'y_val': data['y_val'],\n",
    "}\n",
    "\n",
    "model = ThreeLayerConvNet(weight_scale=1e-2)\n",
    "\n",
    "solver = Solver(model, small_data,\n",
    "                num_epochs=10, batch_size=50,\n",
    "                update_rule='adam',\n",
    "                optim_config={\n",
    "                  'learning_rate': 1e-3,\n",
    "                },\n",
    "                verbose=True, print_every=1)\n",
    "solver.train()"
   ]
  },
  {
   "cell_type": "code",
   "execution_count": 33,
   "metadata": {},
   "outputs": [
    {
     "data": {
      "image/png": "[encoded data removed]",
      "text/plain": [
       "<matplotlib.figure.Figure at 0x7fb572346b00>"
      ]
     },
     "metadata": {},
     "output_type": "display_data"
    }
   ],
   "source": [
    "plt.subplot(2, 1, 1)\n",
    "plt.plot(solver.loss_history, 'o')\n",
    "plt.xlabel('iteration')\n",
    "plt.ylabel('loss')\n",
    "\n",
    "plt.subplot(2, 1, 2)\n",
    "plt.plot(solver.train_acc_history, '-o')\n",
    "plt.plot(solver.val_acc_history, '-o')\n",
    "plt.legend(['train', 'val'], loc='upper left')\n",
    "plt.xlabel('epoch')\n",
    "plt.ylabel('accuracy')\n",
    "plt.show()"
   ]
  },
  {
   "cell_type": "markdown",
   "metadata": {},
   "source": [
    "## Train the network\n",
    "\n",
    "Now we train the 3 layer CNN on CIFAR-10 and assess its accuracy."
   ]
  },
  {
   "cell_type": "code",
   "execution_count": 34,
   "metadata": {
    "scrolled": false
   },
   "outputs": [
    {
     "name": "stdout",
     "output_type": "stream",
     "text": [
      "(Iteration 1 / 980) loss: 2.302739\n",
      "(Epoch 0 / 1) train acc: 0.100000; val_acc: 0.105000\n",
      "(Iteration 21 / 980) loss: 2.351514\n",
      "(Iteration 41 / 980) loss: 1.803818\n",
      "(Iteration 61 / 980) loss: 1.866634\n",
      "(Iteration 81 / 980) loss: 1.854041\n",
      "(Iteration 101 / 980) loss: 1.943818\n",
      "(Iteration 121 / 980) loss: 1.836025\n",
      "(Iteration 141 / 980) loss: 1.723107\n",
      "(Iteration 161 / 980) loss: 1.729060\n",
      "(Iteration 181 / 980) loss: 1.617728\n",
      "(Iteration 201 / 980) loss: 1.630553\n",
      "(Iteration 221 / 980) loss: 1.739144\n",
      "(Iteration 241 / 980) loss: 1.832313\n",
      "(Iteration 261 / 980) loss: 1.728539\n",
      "(Iteration 281 / 980) loss: 2.094672\n",
      "(Iteration 301 / 980) loss: 1.947096\n",
      "(Iteration 321 / 980) loss: 1.629388\n",
      "(Iteration 341 / 980) loss: 1.787252\n",
      "(Iteration 361 / 980) loss: 1.385793\n",
      "(Iteration 381 / 980) loss: 1.897488\n",
      "(Iteration 401 / 980) loss: 1.571912\n",
      "(Iteration 421 / 980) loss: 1.738631\n",
      "(Iteration 441 / 980) loss: 1.850074\n",
      "(Iteration 461 / 980) loss: 1.514367\n",
      "(Iteration 481 / 980) loss: 1.514790\n",
      "(Iteration 501 / 980) loss: 1.501833\n",
      "(Iteration 521 / 980) loss: 1.268397\n",
      "(Iteration 541 / 980) loss: 1.590005\n",
      "(Iteration 561 / 980) loss: 1.709441\n",
      "(Iteration 581 / 980) loss: 1.570906\n",
      "(Iteration 601 / 980) loss: 1.686393\n",
      "(Iteration 621 / 980) loss: 1.337627\n",
      "(Iteration 641 / 980) loss: 1.690279\n",
      "(Iteration 661 / 980) loss: 1.643150\n",
      "(Iteration 681 / 980) loss: 1.634502\n",
      "(Iteration 701 / 980) loss: 1.653030\n",
      "(Iteration 721 / 980) loss: 1.557160\n",
      "(Iteration 741 / 980) loss: 1.618743\n",
      "(Iteration 761 / 980) loss: 1.472307\n",
      "(Iteration 781 / 980) loss: 1.450880\n",
      "(Iteration 801 / 980) loss: 1.352950\n",
      "(Iteration 821 / 980) loss: 1.605227\n",
      "(Iteration 841 / 980) loss: 1.615810\n",
      "(Iteration 861 / 980) loss: 1.293900\n",
      "(Iteration 881 / 980) loss: 1.616299\n",
      "(Iteration 901 / 980) loss: 1.573378\n",
      "(Iteration 921 / 980) loss: 1.341087\n",
      "(Iteration 941 / 980) loss: 1.617946\n",
      "(Iteration 961 / 980) loss: 1.671557\n",
      "(Epoch 1 / 1) train acc: 0.479000; val_acc: 0.447000\n"
     ]
    }
   ],
   "source": [
    "model = ThreeLayerConvNet(weight_scale=0.001, hidden_dim=500, reg=0.001)\n",
    "\n",
    "solver = Solver(model, data,\n",
    "                num_epochs=1, batch_size=50,\n",
    "                update_rule='adam',\n",
    "                optim_config={\n",
    "                  'learning_rate': 1e-3,\n",
    "                },\n",
    "                verbose=True, print_every=20)\n",
    "solver.train()"
   ]
  },
  {
   "cell_type": "markdown",
   "metadata": {},
   "source": [
    "# Get > 65% validation accuracy on CIFAR-10.\n",
    "\n",
    "In the last part of the assignment, we'll now ask you to train a CNN to get better than 65% validation accuracy on CIFAR-10.\n",
    "\n",
    "### Things you should try:\n",
    "- Filter size: Above we used 7x7; but VGGNet and onwards showed stacks of 3x3 filters are good.  \n",
    "- Number of filters: Above we used 32 filters. Do more or fewer do better?\n",
    "- Batch normalization: Try adding spatial batch normalization after convolution layers and vanilla batch normalization after affine layers. Do your networks train faster?\n",
    "- Network architecture: Can a deeper CNN do better?  Consider these architectures:\n",
    "    - [conv-relu-pool]xN - conv - relu - [affine]xM - [softmax or SVM]\n",
    "    - [conv-relu-pool]XN - [affine]XM - [softmax or SVM]\n",
    "    - [conv-relu-conv-relu-pool]xN - [affine]xM - [softmax or SVM]\n",
    "\n",
    "### Tips for training\n",
    "For each network architecture that you try, you should tune the learning rate and regularization strength. When doing this there are a couple of important things to keep in mind:\n",
    "\n",
    "- If the parameters are working well, you should see improvement within a few hundred iterations\n",
    "- Remember the coarse-to-fine approach for hyperparameter tuning: start by testing a large range of hyperparameters for just a few training iterations to find the combinations of parameters that are working at all.\n",
    "- Once you have found some sets of parameters that seem to work, search more finely around these parameters. You may need to train for more epochs."
   ]
  },
  {
   "cell_type": "code",
   "execution_count": null,
   "metadata": {
    "scrolled": true
   },
   "outputs": [
    {
     "name": "stdout",
     "output_type": "stream",
     "text": [
      "(Iteration 1 / 9800) loss: 2.302637\n",
      "(Epoch 0 / 10) train acc: 0.105000; val_acc: 0.119000\n",
      "(Iteration 21 / 9800) loss: 1.889727\n",
      "(Iteration 41 / 9800) loss: 1.876235\n",
      "(Iteration 61 / 9800) loss: 1.797074\n",
      "(Iteration 81 / 9800) loss: 1.773744\n",
      "(Iteration 101 / 9800) loss: 1.646516\n",
      "(Iteration 121 / 9800) loss: 1.544747\n",
      "(Iteration 141 / 9800) loss: 1.799647\n",
      "(Iteration 161 / 9800) loss: 1.808177\n",
      "(Iteration 181 / 9800) loss: 1.602673\n",
      "(Iteration 201 / 9800) loss: 1.672244\n",
      "(Iteration 221 / 9800) loss: 1.563319\n",
      "(Iteration 241 / 9800) loss: 1.725720\n",
      "(Iteration 261 / 9800) loss: 1.657742\n",
      "(Iteration 281 / 9800) loss: 1.706043\n",
      "(Iteration 301 / 9800) loss: 1.873757\n",
      "(Iteration 321 / 9800) loss: 1.374696\n",
      "(Iteration 341 / 9800) loss: 1.476023\n",
      "(Iteration 361 / 9800) loss: 1.452051\n",
      "(Iteration 381 / 9800) loss: 1.586753\n",
      "(Iteration 401 / 9800) loss: 1.644006\n",
      "(Iteration 421 / 9800) loss: 1.397934\n",
      "(Iteration 441 / 9800) loss: 1.380427\n",
      "(Iteration 461 / 9800) loss: 1.474182\n",
      "(Iteration 481 / 9800) loss: 1.467646\n",
      "(Iteration 501 / 9800) loss: 1.472045\n",
      "(Iteration 521 / 9800) loss: 1.616523\n",
      "(Iteration 541 / 9800) loss: 1.866377\n",
      "(Iteration 561 / 9800) loss: 1.507382\n",
      "(Iteration 581 / 9800) loss: 1.504971\n",
      "(Iteration 601 / 9800) loss: 1.228765\n",
      "(Iteration 621 / 9800) loss: 1.580942\n",
      "(Iteration 641 / 9800) loss: 1.219333\n",
      "(Iteration 661 / 9800) loss: 1.702017\n",
      "(Iteration 681 / 9800) loss: 1.651283\n",
      "(Iteration 701 / 9800) loss: 1.191883\n",
      "(Iteration 721 / 9800) loss: 1.258449\n",
      "(Iteration 741 / 9800) loss: 1.602445\n",
      "(Iteration 761 / 9800) loss: 1.371502\n",
      "(Iteration 781 / 9800) loss: 1.225054\n",
      "(Iteration 801 / 9800) loss: 1.044178\n",
      "(Iteration 821 / 9800) loss: 1.223658\n",
      "(Iteration 841 / 9800) loss: 1.310446\n",
      "(Iteration 861 / 9800) loss: 1.519894\n",
      "(Iteration 881 / 9800) loss: 1.451691\n",
      "(Iteration 901 / 9800) loss: 1.562311\n",
      "(Iteration 921 / 9800) loss: 1.413303\n",
      "(Iteration 941 / 9800) loss: 1.461161\n",
      "(Iteration 961 / 9800) loss: 1.289478\n",
      "(Epoch 1 / 10) train acc: 0.574000; val_acc: 0.556000\n",
      "(Iteration 981 / 9800) loss: 1.149818\n",
      "(Iteration 1001 / 9800) loss: 1.248934\n",
      "(Iteration 1021 / 9800) loss: 1.223918\n",
      "(Iteration 1041 / 9800) loss: 1.111768\n",
      "(Iteration 1061 / 9800) loss: 1.572638\n",
      "(Iteration 1081 / 9800) loss: 1.198127\n",
      "(Iteration 1101 / 9800) loss: 1.074892\n",
      "(Iteration 1121 / 9800) loss: 1.180110\n",
      "(Iteration 1141 / 9800) loss: 1.233083\n",
      "(Iteration 1161 / 9800) loss: 1.439735\n",
      "(Iteration 1181 / 9800) loss: 1.173894\n",
      "(Iteration 1201 / 9800) loss: 1.409162\n",
      "(Iteration 1221 / 9800) loss: 1.044696\n",
      "(Iteration 1241 / 9800) loss: 1.299349\n",
      "(Iteration 1261 / 9800) loss: 1.363058\n",
      "(Iteration 1281 / 9800) loss: 1.260654\n",
      "(Iteration 1301 / 9800) loss: 1.189829\n",
      "(Iteration 1321 / 9800) loss: 1.399299\n",
      "(Iteration 1341 / 9800) loss: 1.557767\n",
      "(Iteration 1361 / 9800) loss: 1.086312\n",
      "(Iteration 1381 / 9800) loss: 1.004441\n",
      "(Iteration 1401 / 9800) loss: 1.297744\n",
      "(Iteration 1421 / 9800) loss: 1.243488\n",
      "(Iteration 1441 / 9800) loss: 1.216561\n",
      "(Iteration 1461 / 9800) loss: 1.376360\n",
      "(Iteration 1481 / 9800) loss: 1.323543\n",
      "(Iteration 1501 / 9800) loss: 1.192432\n",
      "(Iteration 1521 / 9800) loss: 1.536490\n",
      "(Iteration 1541 / 9800) loss: 1.207505\n",
      "(Iteration 1561 / 9800) loss: 1.381348\n",
      "(Iteration 1581 / 9800) loss: 1.241192\n",
      "(Iteration 1601 / 9800) loss: 1.374683\n",
      "(Iteration 1621 / 9800) loss: 1.254924\n",
      "(Iteration 1641 / 9800) loss: 1.262255\n",
      "(Iteration 1661 / 9800) loss: 1.359115\n",
      "(Iteration 1681 / 9800) loss: 1.183755\n",
      "(Iteration 1701 / 9800) loss: 1.206137\n",
      "(Iteration 1721 / 9800) loss: 1.153182\n",
      "(Iteration 1741 / 9800) loss: 0.812763\n",
      "(Iteration 1761 / 9800) loss: 1.096408\n",
      "(Iteration 1781 / 9800) loss: 1.254420\n",
      "(Iteration 1801 / 9800) loss: 1.135547\n",
      "(Iteration 1821 / 9800) loss: 1.101559\n",
      "(Iteration 1841 / 9800) loss: 1.472495\n",
      "(Iteration 1861 / 9800) loss: 1.158031\n",
      "(Iteration 1881 / 9800) loss: 1.226453\n",
      "(Iteration 1901 / 9800) loss: 1.243864\n",
      "(Iteration 1921 / 9800) loss: 1.178659\n",
      "(Iteration 1941 / 9800) loss: 1.290701\n",
      "(Epoch 2 / 10) train acc: 0.604000; val_acc: 0.561000\n",
      "(Iteration 1961 / 9800) loss: 1.005650\n",
      "(Iteration 1981 / 9800) loss: 0.984063\n",
      "(Iteration 2001 / 9800) loss: 1.025483\n",
      "(Iteration 2021 / 9800) loss: 0.952861\n",
      "(Iteration 2041 / 9800) loss: 1.152695\n",
      "(Iteration 2061 / 9800) loss: 1.262912\n",
      "(Iteration 2081 / 9800) loss: 0.825400\n",
      "(Iteration 2101 / 9800) loss: 0.977100\n",
      "(Iteration 2121 / 9800) loss: 1.349958\n",
      "(Iteration 2141 / 9800) loss: 1.158031\n",
      "(Iteration 2161 / 9800) loss: 1.157985\n",
      "(Iteration 2181 / 9800) loss: 1.121374\n",
      "(Iteration 2201 / 9800) loss: 1.316610\n",
      "(Iteration 2221 / 9800) loss: 0.872847\n",
      "(Iteration 2241 / 9800) loss: 1.287719\n"
     ]
    }
   ],
   "source": [
    "# ================================================================ #\n",
    "# YOUR CODE HERE:\n",
    "#   Implement a CNN to achieve greater than 65% validation accuracy\n",
    "#   on CIFAR-10.\n",
    "# ================================================================ #\n",
    "import nndl.generic_cnn as gcnn\n",
    "\n",
    "#model = gcnn.GenericConv(input_dim=(3, 32, 32), num_filters=32, filter_size=3,\n",
    "#               hidden_dim=[100,100,100], num_classes=10, weight_scale=1e-3, reg=0.9,\n",
    "#               dtype=np.float32, optim='adagrad', \n",
    "#               pool_params = {'pH': 2, 'pW': 2, 's': 2}, \n",
    "#               architecture = {\"CONV_R\": 3, \"CONV_R_P\": 1, \"AFFINE\": 3, \"SOFTMAX\": 1 },\n",
    "#               use_batchnorm=False)\n",
    "\n",
    "#solver = Solver(model, data,\n",
    "#                num_epochs=1, batch_size=50,\n",
    "#                update_rule='adam',\n",
    "#                optim_config={\n",
    "#                  'learning_rate': 1e-3,\n",
    "#                },\n",
    "#                verbose=True, print_every=20)\n",
    "\n",
    "#solver.train()\n",
    "\n",
    "model = ThreeLayerConvNet(weight_scale=0.001, hidden_dim=500, filter_size=3, num_filters=20, reg=0.002)\n",
    "\n",
    "solver = Solver(model, data,\n",
    "                num_epochs=10, batch_size=50,\n",
    "                update_rule='adam',\n",
    "                optim_config={\n",
    "                  'learning_rate': 1e-3,\n",
    "                },\n",
    "                verbose=True, print_every=20)\n",
    "solver.train()\n",
    "\n",
    "# ================================================================ #\n",
    "# END YOUR CODE HERE\n",
    "# ================================================================ #\n"
   ]
  },
  {
   "cell_type": "code",
   "execution_count": null,
   "metadata": {},
   "outputs": [],
   "source": []
  }
 ],
 "metadata": {
  "kernelspec": {
   "display_name": "Python 3",
   "language": "python",
   "name": "python3"
  },
  "language_info": {
   "codemirror_mode": {
    "name": "ipython",
    "version": 3
   },
   "file_extension": ".py",
   "mimetype": "text/x-python",
   "name": "python",
   "nbconvert_exporter": "python",
   "pygments_lexer": "ipython3",
   "version": "3.6.8"
  },
  "varInspector": {
   "cols": {
    "lenName": 16,
    "lenType": 16,
    "lenVar": 40
   },
   "kernels_config": {
    "python": {
     "delete_cmd_postfix": "",
     "delete_cmd_prefix": "del ",
     "library": "var_list.py",
     "varRefreshCmd": "print(var_dic_list())"
    },
    "r": {
     "delete_cmd_postfix": ") ",
     "delete_cmd_prefix": "rm(",
     "library": "var_list.r",
     "varRefreshCmd": "cat(var_dic_list()) "
    }
   },
   "types_to_exclude": [
    "module",
    "function",
    "builtin_function_or_method",
    "instance",
    "_Feature"
   ],
   "window_display": true
  }
 },
 "nbformat": 4,
 "nbformat_minor": 2
}
